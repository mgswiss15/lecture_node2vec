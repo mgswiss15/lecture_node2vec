{
 "cells": [
  {
   "cell_type": "code",
   "execution_count": null,
   "id": "informative-camera",
   "metadata": {},
   "outputs": [],
   "source": [
    "from IPython.core.interactiveshell import InteractiveShell\n",
    "InteractiveShell.ast_node_interactivity = \"all\"\n",
    "%matplotlib inline\n",
    "%load_ext autoreload\n",
    "%autoreload 2\n",
    "import helpers as h"
   ]
  },
  {
   "cell_type": "markdown",
   "id": "accomplished-latex",
   "metadata": {},
   "source": [
    "# node2vec\n",
    "\n",
    "A. Grover, J. Leskovec. *node2vec: Scalable Feature Learning for Networks.* ACM SIGKDD International Conference on Knowledge Discovery and Data Mining (KDD), 2016. "
   ]
  },
  {
   "cell_type": "markdown",
   "id": "practical-aside",
   "metadata": {},
   "source": [
    "## Networks\n",
    "\n",
    "$G = \\{V, E\\}$ &nbsp; &nbsp;\n",
    "$G$ - graph, network\n",
    "$V$ - vertices, nodes, &nbsp;\n",
    "$E$ - edges, links\n",
    "\n",
    "<table><tr>\n",
    "<td> <img src=\"line_graph.png\" alt=\"Drawing\" style=\"width: 300px;\"/> </td>\n",
    "<td> <img src=\"net_graph1.png\" alt=\"Drawing\" style=\"width: 300px;\"/> </td>\n",
    "</tr></table>\n"
   ]
  },
  {
   "cell_type": "markdown",
   "id": "persistent-dairy",
   "metadata": {},
   "source": [
    "## Examples of networks\n",
    "\n",
    "* a\n",
    "* b\n",
    "* c"
   ]
  },
  {
   "cell_type": "markdown",
   "id": "limiting-focus",
   "metadata": {},
   "source": [
    "## Game of thrones\n",
    "\n",
    "> *Connecting two characters whenever their names (or nicknames) appeared within 15 words of one another. The edge weight corresponds to the number of interactions.*\n",
    "\n",
    "Thanks to Andrew Beveridge: https://github.com/mathbeveridge/asoiaf"
   ]
  },
  {
   "cell_type": "code",
   "execution_count": null,
   "id": "overall-afghanistan",
   "metadata": {},
   "outputs": [],
   "source": [
    "got = h.load_got('https://raw.githubusercontent.com/mathbeveridge/asoiaf/master/data/asoiaf-book1-edges.csv')\n",
    "got['data'].head()"
   ]
  },
  {
   "cell_type": "code",
   "execution_count": null,
   "id": "nasty-peeing",
   "metadata": {},
   "outputs": [],
   "source": [
    "h.plot_net(got['net'])"
   ]
  },
  {
   "cell_type": "markdown",
   "id": "planned-likelihood",
   "metadata": {},
   "source": [
    "## Nodes representation\n",
    "\n",
    "* ### One hot?\n",
    "    * no info about network structure\n",
    "* ### Hand-engineered?\n",
    "    * tedious, does not generalize\n",
    "* ### $\\Rightarrow$ Learned representation\n",
    "    * tuned for downstream task - **expensive**\n",
    "    * generic - **self-supervised, context-based - <font color='blue'>node2vec</font>**"
   ]
  },
  {
   "cell_type": "markdown",
   "id": "checked-madison",
   "metadata": {},
   "source": [
    "## Word2vec skipgram (check notes last lecture)\n",
    "\n",
    "![word2vec](word2vec.png)\n",
    "\n",
    "Source: McCormick, C. (2016, April 19). Word2Vec Tutorial - The Skip-Gram Model. Retrieved from http://www.mccormickml.com"
   ]
  },
  {
   "cell_type": "markdown",
   "id": "developmental-buffer",
   "metadata": {},
   "source": [
    "## Sentences = sequence of nodes from network\n",
    "\n",
    "### Node neighborhood $N_S(u)$\n",
    "\n",
    "* **breadth first** (immediate neihbors) vs **depth first** (nodes in long paths)\n",
    "* **homophily** (highly interconnected) vs **structural equivalence** (similar structural role)\n",
    "\n",
    "![figure3](figure3.png)\n"
   ]
  },
  {
   "cell_type": "markdown",
   "id": "preceding-stranger",
   "metadata": {},
   "source": [
    "## Node2vec - 2nd order random walks\n",
    "\n",
    "> *``... a flexible objective that is not tied to a particular sampling strategy and provides parameters to tune the explored search space.''* \n",
    "\n",
    "<table><tr>\n",
    "<td>\n",
    "$$\\large{P(c_i = x \\, \\vert \\, c_{i-1} = v) = \\alpha_{p,q}(t,x) \\, w_{vx}}$$\n",
    "\n",
    "$$\\large{\\alpha_{p,q}(t,x) = \n",
    "\\begin{cases}\n",
    "1/p & \\text{if } d_{tx} = 0 \\\\\n",
    "1 & \\text{if } d_{tx} = 1 \\\\\n",
    "1/q & \\text{if } d_{tx} = 2\n",
    "\\end{cases}}\n",
    "$$\n",
    "</td>\n",
    "<td> <img src=\"figure2.png\" alt=\"Drawing\" style=\"width: 250px;\"/> </td>\n",
    "</tr></table>\n",
    "\n",
    "**$p$ - return parameter**: low = backtracking, &nbsp; &nbsp; high = no backtracking  \n",
    "**$q$ - in-out parameter**: low = go explore, &nbsp; &nbsp; high = keep close to start\n",
    "\n"
   ]
  },
  {
   "cell_type": "markdown",
   "id": "friendly-commons",
   "metadata": {},
   "source": [
    "### Node2vec implementation\n",
    "\n",
    "Thanks to Elior Cohen: https://github.com/eliorc/node2vec"
   ]
  },
  {
   "cell_type": "code",
   "execution_count": null,
   "id": "cutting-excitement",
   "metadata": {},
   "outputs": [],
   "source": [
    "chars = ['Jon-Snow', 'Daenerys-Targaryen']\n",
    "h.plot_walks(got['net'], chars, p=1, q=1, num_walks=0)"
   ]
  },
  {
   "cell_type": "markdown",
   "id": "persistent-principal",
   "metadata": {},
   "source": [
    "## Node embeddings - word2vec skipgram\n",
    "\n",
    "$f : V \\to \\mathbb{R}^d$ &nbsp; &nbsp; $V$ - one-hot encoding, &nbsp; &nbsp; $d$ - embedding size"
   ]
  },
  {
   "cell_type": "markdown",
   "id": "statistical-forty",
   "metadata": {},
   "source": [
    "### K-means clustering by embedding similarity"
   ]
  },
  {
   "cell_type": "code",
   "execution_count": null,
   "id": "characteristic-sequence",
   "metadata": {},
   "outputs": [],
   "source": [
    "h.embeddings(got['net'], list(got['net'].nodes), p=10, q=0.1, c=6)"
   ]
  },
  {
   "cell_type": "markdown",
   "id": "precise-stack",
   "metadata": {},
   "source": [
    "## Homework\n",
    "\n",
    "### 1) Predict violent death in book 1\n",
    "* use network data from book 1 and character death data from here: https://www.kaggle.com/mylesoneill/game-of-thrones?select=character-deaths.csv (split to train and test as you see fit)\n",
    "* use learned node2vec embeddings and our *baby-MLP* from week 2 to train binary classifier\n",
    "* play with hyper-parameters of node2vec (walk lenght, number of walks, p, q, d) - effect on prediction accuracy?\n",
    "\n",
    "### 2) How to predict death in book 2\n",
    "* given network of book 2 but no death data - how could you predict violent death in book 2?"
   ]
  }
 ],
 "metadata": {
  "kernelspec": {
   "display_name": "Python 3",
   "language": "python",
   "name": "python3"
  },
  "language_info": {
   "codemirror_mode": {
    "name": "ipython",
    "version": 3
   },
   "file_extension": ".py",
   "mimetype": "text/x-python",
   "name": "python",
   "nbconvert_exporter": "python",
   "pygments_lexer": "ipython3",
   "version": "3.8.3"
  }
 },
 "nbformat": 4,
 "nbformat_minor": 5
}
